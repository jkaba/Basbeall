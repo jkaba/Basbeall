{
 "cells": [
  {
   "cell_type": "code",
   "execution_count": null,
   "metadata": {},
   "outputs": [],
   "source": [
    "# Player Swing Probability\n",
    "# Objective: This model attempts to determine whether or not an MLB hitter will swing at a given pitch.\n",
    "# Author: Jameel Kaba"
   ]
  },
  {
   "cell_type": "code",
   "execution_count": null,
   "metadata": {},
   "outputs": [],
   "source": [
    "import pandas as pd\n",
    "from pybaseball import statcast_batter, statcast_pitcher, playerid_lookup\n",
    "import matplotlib.pyplot as plt\n",
    "import seaborn as sns\n",
    "import numpy as np\n",
    "from sklearn.model_selection import train_test_split\n",
    "from sklearn import metrics\n",
    "import lightgbm as lgb"
   ]
  },
  {
   "cell_type": "code",
   "execution_count": null,
   "metadata": {},
   "outputs": [],
   "source": [
    "# If you want to run the model on a different player, just replace the player name to lookup the player id\n",
    "# Looking up Bryce Harper's lookup table\n",
    "playerid_lookup('harper','bryce')"
   ]
  },
  {
   "cell_type": "code",
   "execution_count": null,
   "metadata": {},
   "outputs": [],
   "source": [
    "# Getting Bryce Harper's pitch by pitch data over the last 5 years\n",
    "data0 = statcast_batter('2016-03-15','2021-10-01', 547180)"
   ]
  },
  {
   "cell_type": "code",
   "execution_count": null,
   "metadata": {},
   "outputs": [],
   "source": [
    "data0.shape"
   ]
  },
  {
   "cell_type": "code",
   "execution_count": null,
   "metadata": {},
   "outputs": [],
   "source": [
    "# Removing intentional balls and pitchouts because they are not trying to get the batter to swing\n",
    "data1 = data0.loc[(data0['description']!= 'intent_ball') & (data0['pitch_type']!= 'PO')]"
   ]
  },
  {
   "cell_type": "code",
   "execution_count": null,
   "metadata": {},
   "outputs": [],
   "source": [
    "data1.shape"
   ]
  },
  {
   "cell_type": "code",
   "execution_count": null,
   "metadata": {},
   "outputs": [],
   "source": [
    "data1['plate_z'].isna().sum()"
   ]
  },
  {
   "cell_type": "code",
   "execution_count": null,
   "metadata": {},
   "outputs": [],
   "source": [
    "# Removing null data \n",
    "data2 = data1.loc[(data1['plate_x'].notnull()) & (data1['plate_z'].notnull())]"
   ]
  },
  {
   "cell_type": "code",
   "execution_count": null,
   "metadata": {},
   "outputs": [],
   "source": [
    "data2.shape"
   ]
  },
  {
   "cell_type": "code",
   "execution_count": null,
   "metadata": {},
   "outputs": [],
   "source": [
    "data2['pitch_type'].isna().sum()"
   ]
  },
  {
   "cell_type": "code",
   "execution_count": null,
   "metadata": {},
   "outputs": [],
   "source": [
    "data2['release_speed'].isna().sum()"
   ]
  },
  {
   "cell_type": "code",
   "execution_count": null,
   "metadata": {},
   "outputs": [],
   "source": [
    "# Removing null data from pitch type and release speed\n",
    "data3 = data2.loc[(data2['pitch_type'].notnull()) & (data2['release_speed'].notnull())]"
   ]
  },
  {
   "cell_type": "code",
   "execution_count": null,
   "metadata": {},
   "outputs": [],
   "source": [
    "data3.shape"
   ]
  },
  {
   "cell_type": "code",
   "execution_count": null,
   "metadata": {},
   "outputs": [],
   "source": [
    "pd.set_option('display.max_columns', None)"
   ]
  },
  {
   "cell_type": "code",
   "execution_count": null,
   "metadata": {},
   "outputs": [],
   "source": [
    "# Indicating whether or not the batter swung (1 indicates swing, 0 indicates take)\n",
    "data3['swing'] = 1"
   ]
  },
  {
   "cell_type": "code",
   "execution_count": null,
   "metadata": {},
   "outputs": [],
   "source": [
    "data3['description'].unique()"
   ]
  },
  {
   "cell_type": "code",
   "execution_count": null,
   "metadata": {},
   "outputs": [],
   "source": [
    "# Setting the swing column equal to 0 on all pitches the batter did not swing at\n",
    "data3.loc[data3['description'].isin(['ball','called_strike','blocked_ball','hit_by_pitch',\n",
    "                                    'pitchout']),'swing'] = 0"
   ]
  },
  {
   "cell_type": "code",
   "execution_count": null,
   "metadata": {},
   "outputs": [],
   "source": [
    "# Resetting and reversing the index so pitches are ordered chronologically\n",
    "data4 = data3.iloc[::-1].reset_index(drop = True)"
   ]
  },
  {
   "cell_type": "code",
   "execution_count": null,
   "metadata": {},
   "outputs": [],
   "source": [
    "data4.pitch_type.unique()"
   ]
  },
  {
   "cell_type": "code",
   "execution_count": null,
   "metadata": {},
   "outputs": [],
   "source": [
    "# Categorizing pitches as either fastballs, breaking balls, or offspeed pitches\n",
    "fastballs = ['FF','FT','SI', 'FC']\n",
    "breaking = ['CU','SL','KC','KN','FS','SC']\n",
    "offspeed = ['CH','FO','EP']"
   ]
  },
  {
   "cell_type": "code",
   "execution_count": null,
   "metadata": {},
   "outputs": [],
   "source": [
    "# Creating a new column to indicate what the previous pitch thrown was. Default value is 'none'\n",
    "data4['prev_pitch'] = 'none'   "
   ]
  },
  {
   "cell_type": "code",
   "execution_count": null,
   "metadata": {},
   "outputs": [],
   "source": [
    "# Loop that imputes the previous pitch type into our new 'prev_pitch' column (if one was thrown)\n",
    "prev_pitch_list = []\n",
    "for i in range(len(data4)):\n",
    "    \n",
    "    # Skipping if it's the first pitch of the at-bat \n",
    "    if data4['pitch_number'][i] == 1:\n",
    "        previous_pitch = 'none'\n",
    "    \n",
    "    elif data4['pitch_number'][i]!= 1:\n",
    "        \n",
    "        # Getting the pitch type that was thrown in the previous pitch\n",
    "        previous_pitch = data4['pitch_type'][i-1]\n",
    "    \n",
    "    prev_pitch_list.append(previous_pitch)"
   ]
  },
  {
   "cell_type": "code",
   "execution_count": null,
   "metadata": {},
   "outputs": [],
   "source": [
    "# Setting the prev_pitch column equal to the list we created above\n",
    "data4['prev_pitch'] = prev_pitch_list"
   ]
  },
  {
   "cell_type": "code",
   "execution_count": null,
   "metadata": {},
   "outputs": [],
   "source": [
    "# Recategorizing the previous pitches into fastballs, breaking balls, and offspeed pitches \n",
    "data4.loc[data4['prev_pitch'].isin(fastballs),'prev_pitch'] = 'fb'\n",
    "data4.loc[data4['prev_pitch'].isin(breaking),'prev_pitch'] = 'brk'\n",
    "data4.loc[data4['prev_pitch'].isin(offspeed),'prev_pitch'] = 'offs'"
   ]
  },
  {
   "cell_type": "code",
   "execution_count": null,
   "metadata": {},
   "outputs": [],
   "source": [
    "# Getting only the columns we will need in our model\n",
    "relevant_df = data4[['plate_x','plate_z','release_speed','p_throws','pfx_x','pfx_z','vx0','vy0','vz0',\n",
    "                  'strikes','balls','prev_pitch', 'swing']]"
   ]
  },
  {
   "cell_type": "code",
   "execution_count": null,
   "metadata": {},
   "outputs": [],
   "source": [
    "relevant_df.head()"
   ]
  },
  {
   "cell_type": "code",
   "execution_count": null,
   "metadata": {},
   "outputs": [],
   "source": [
    "# One-hot encoding categorical features\n",
    "hot_df = pd.get_dummies(relevant_df, prefix = ['throws_','prev_'])"
   ]
  },
  {
   "cell_type": "code",
   "execution_count": null,
   "metadata": {},
   "outputs": [],
   "source": [
    "# Separating the dependent variable\n",
    "y = hot_df['swing']\n",
    "y = y.astype(int)"
   ]
  },
  {
   "cell_type": "code",
   "execution_count": null,
   "metadata": {},
   "outputs": [],
   "source": [
    "# Getting the independent variables\n",
    "x = hot_df.drop('swing', axis = 1).values"
   ]
  },
  {
   "cell_type": "code",
   "execution_count": null,
   "metadata": {},
   "outputs": [],
   "source": [
    "# Splitting test and training data\n",
    "X_train, X_test, y_train, y_test = train_test_split(x,y,test_size = 0.2, random_state = 0)"
   ]
  },
  {
   "cell_type": "code",
   "execution_count": null,
   "metadata": {},
   "outputs": [],
   "source": [
    "# Initializing model\n",
    "clf = lgb.LGBMClassifier()"
   ]
  },
  {
   "cell_type": "code",
   "execution_count": null,
   "metadata": {},
   "outputs": [],
   "source": [
    "# Training the model\n",
    "clf.fit(X_train, y_train)"
   ]
  },
  {
   "cell_type": "code",
   "execution_count": null,
   "metadata": {},
   "outputs": [],
   "source": [
    "# Predicting\n",
    "y_pred = clf.predict(X_test)"
   ]
  },
  {
   "cell_type": "code",
   "execution_count": null,
   "metadata": {},
   "outputs": [],
   "source": [
    "# Getting our accuracy\n",
    "accuracy = metrics.accuracy_score(y_pred, y_test)"
   ]
  },
  {
   "cell_type": "code",
   "execution_count": null,
   "metadata": {},
   "outputs": [],
   "source": [
    "accuracy"
   ]
  },
  {
   "cell_type": "code",
   "execution_count": null,
   "metadata": {},
   "outputs": [],
   "source": [
    "# Predicting the training data\n",
    "y_pred_train = clf.predict(X_train)"
   ]
  },
  {
   "cell_type": "code",
   "execution_count": null,
   "metadata": {},
   "outputs": [],
   "source": [
    "print('Training-set accuracy score: {0:0.4f}'.format(metrics.accuracy_score(y_train, y_pred_train)))"
   ]
  },
  {
   "cell_type": "code",
   "execution_count": null,
   "metadata": {},
   "outputs": [],
   "source": [
    "print('Training set score: {:.4f}'.format(clf.score(X_train, y_train)))\n",
    "\n",
    "print('Test set score: {:.4f}'.format(clf.score(X_test, y_test)))"
   ]
  },
  {
   "cell_type": "code",
   "execution_count": null,
   "metadata": {},
   "outputs": [],
   "source": [
    "# Confusion matrix\n",
    "cm = metrics.confusion_matrix(y_test, y_pred)\n",
    "print('Confusion matrix\\n\\n',cm)\n",
    "print('\\nTrue Positives(TP) = ', cm[0,0])\n",
    "print('\\nTrue Negatives(TN) = ', cm[1,1])\n",
    "print('\\nFalse Positives(FP) = ', cm[0,1])\n",
    "print('\\nFalse Negatives(FN) = ', cm[1,0])"
   ]
  },
  {
   "cell_type": "code",
   "execution_count": null,
   "metadata": {},
   "outputs": [],
   "source": [
    "# Attempting hyperparameter tuning\n",
    "clf2 = lgb.LGBMClassifier(boosting_type = 'gbdt',\n",
    "    objective = 'binary',\n",
    "    learning_rate = 0.099,\n",
    "    max_depth = 6,\n",
    "    num_leaves = 26,\n",
    "    n_estimators = 180)"
   ]
  },
  {
   "cell_type": "code",
   "execution_count": null,
   "metadata": {},
   "outputs": [],
   "source": [
    "# Training the new model\n",
    "clf2.fit(X_train, y_train)"
   ]
  },
  {
   "cell_type": "code",
   "execution_count": null,
   "metadata": {},
   "outputs": [],
   "source": [
    "# Predicting with the new model\n",
    "y_pred2 = clf2.predict(X_test)"
   ]
  },
  {
   "cell_type": "code",
   "execution_count": null,
   "metadata": {},
   "outputs": [],
   "source": [
    "# Accuracy of the new model \n",
    "accuracy2 = metrics.accuracy_score(y_pred2, y_test)"
   ]
  },
  {
   "cell_type": "code",
   "execution_count": null,
   "metadata": {},
   "outputs": [],
   "source": [
    "accuracy2"
   ]
  },
  {
   "cell_type": "code",
   "execution_count": null,
   "metadata": {},
   "outputs": [],
   "source": [
    "print('Training set score: {:.4f}'.format(clf2.score(X_train, y_train)))\n",
    "\n",
    "print('Test set score: {:.4f}'.format(clf2.score(X_test, y_test)))"
   ]
  },
  {
   "cell_type": "code",
   "execution_count": null,
   "metadata": {},
   "outputs": [],
   "source": [
    "# Confusion matrix for new model\n",
    "cm2 = metrics.confusion_matrix(y_test, y_pred2)"
   ]
  },
  {
   "cell_type": "code",
   "execution_count": null,
   "metadata": {},
   "outputs": [],
   "source": [
    "print('Confusion matrix\\n\\n',cm2)\n",
    "print('\\nTrue Positives(TP) = ', cm2[0,0])\n",
    "print('\\nTrue Negatives(TN) = ', cm2[1,1])\n",
    "print('\\nFalse Positives(FP) = ', cm2[0,1])\n",
    "print('\\nFalse Negatives(FN) = ', cm2[1,0])"
   ]
  },
  {
   "cell_type": "code",
   "execution_count": null,
   "metadata": {},
   "outputs": [],
   "source": [
    "# Getting list of column names\n",
    "col_names = hot_df.drop('swing',axis = 1).columns"
   ]
  },
  {
   "cell_type": "code",
   "execution_count": null,
   "metadata": {},
   "outputs": [],
   "source": [
    "# Putting the test data back into a dataframe \n",
    "test_df2 = pd.DataFrame(data = X_test, columns = col_names)"
   ]
  },
  {
   "cell_type": "code",
   "execution_count": null,
   "metadata": {},
   "outputs": [],
   "source": [
    "# Putting the predicted probabilities into a df\n",
    "gb_prob_df2 = pd.DataFrame(data = clf2.predict_proba(X_test), columns = ['take_probability', 'swing_probability'])"
   ]
  },
  {
   "cell_type": "code",
   "execution_count": null,
   "metadata": {},
   "outputs": [],
   "source": [
    "# Adding the swing probability to the df with our test data\n",
    "test_df2['swing_probability'] = gb_prob_df2['swing_probability']"
   ]
  },
  {
   "cell_type": "code",
   "execution_count": null,
   "metadata": {},
   "outputs": [],
   "source": [
    "# Plotting the location of each pitch along with its swing probability  \n",
    "sns.scatterplot(x = test_df2['plate_x'],y = test_df2['plate_z'],hue = test_df2['swing_probability'])"
   ]
  },
  {
   "cell_type": "code",
   "execution_count": null,
   "metadata": {},
   "outputs": [],
   "source": [
    "# We are gonna test out the model on Clayton Kershaw's pitches\n",
    "kershaw = statcast_pitcher('2019-03-15','2021-10-01', 477132)"
   ]
  },
  {
   "cell_type": "code",
   "execution_count": null,
   "metadata": {},
   "outputs": [],
   "source": [
    "# Getting everytime his curveball was thrown\n",
    "ck_cu = kershaw.loc[kershaw['pitch_type'] == 'CU']"
   ]
  },
  {
   "cell_type": "code",
   "execution_count": null,
   "metadata": {},
   "outputs": [],
   "source": [
    "# Getting the average speed of his curveball \n",
    "ck_avg_speed = ck_cu['release_speed'].mean()"
   ]
  },
  {
   "cell_type": "code",
   "execution_count": null,
   "metadata": {},
   "outputs": [],
   "source": [
    "ck_avg_pfx_x = ck_cu['pfx_x'].mean()\n",
    "ck_avg_pfx_z = ck_cu['pfx_z'].mean()\n",
    "ck_avg_vx0 = ck_cu['vx0'].mean()\n",
    "ck_avg_vy0 = ck_cu['vy0'].mean()\n",
    "ck_avg_vz0 = ck_cu['vz0'].mean()\n",
    "\n",
    "# These will be used as the x,z coordinates for the strikezone\n",
    "ck_plate_x = np.linspace(start = -1.5, stop = 1.5, num = 40)\n",
    "ck_plate_z = np.linspace(start = 0.5, stop = 4, num = 50)"
   ]
  },
  {
   "cell_type": "code",
   "execution_count": null,
   "metadata": {},
   "outputs": [],
   "source": [
    "# Getting the cartesian product of those two arrays\n",
    "plate_product = np.transpose([np.tile(ck_plate_x, len(ck_plate_z)), np.repeat(ck_plate_z, len(ck_plate_x))])"
   ]
  },
  {
   "cell_type": "code",
   "execution_count": null,
   "metadata": {},
   "outputs": [],
   "source": [
    "ck_df = pd.DataFrame(data = plate_product, columns = ['plate_x','plate_z'])"
   ]
  },
  {
   "cell_type": "code",
   "execution_count": null,
   "metadata": {},
   "outputs": [],
   "source": [
    "#adding the rest of the features and setting their values to the average\n",
    "ck_df['release_speed'] = ck_avg_speed\n",
    "ck_df['pfx_x'] = ck_avg_pfx_x\n",
    "ck_df['pfx_z'] = ck_avg_pfx_z\n",
    "ck_df['vx0'] = ck_avg_vx0\n",
    "ck_df['vy0'] = ck_avg_vy0\n",
    "ck_df['vz0'] = ck_avg_vz0\n",
    "ck_df['strikes'] = 0\n",
    "ck_df['balls'] = 0\n",
    "ck_df['throws_L'] = 0\n",
    "ck_df['throws_R'] = 1\n",
    "ck_df['prev_brk'] = 0\n",
    "ck_df['prev_fb'] = 0\n",
    "ck_df['prev_none'] = 1\n",
    "ck_df['prev_offs'] = 0"
   ]
  },
  {
   "cell_type": "code",
   "execution_count": null,
   "metadata": {},
   "outputs": [],
   "source": [
    "# Getting probabilities for Kershaw's curveball\n",
    "swing_prob = clf.predict_proba(ck_df.values)"
   ]
  },
  {
   "cell_type": "code",
   "execution_count": null,
   "metadata": {},
   "outputs": [],
   "source": [
    "ck_sp = pd.DataFrame(data = swing_prob, columns = ['take_prob','swing_prob'])"
   ]
  },
  {
   "cell_type": "code",
   "execution_count": null,
   "metadata": {},
   "outputs": [],
   "source": [
    "ck_df['swing_prob'] = ck_sp['swing_prob']"
   ]
  },
  {
   "cell_type": "code",
   "execution_count": null,
   "metadata": {},
   "outputs": [],
   "source": [
    "sns.scatterplot(x = tg_df['plate_x'],y = tg_df['plate_z'],hue = tg_df['swing_prob'])"
   ]
  },
  {
   "cell_type": "code",
   "execution_count": null,
   "metadata": {},
   "outputs": [],
   "source": [
    "# This function takes a specific mlb player's id, pitch type, ball/strike count, and the prior pitch thrown\n",
    "# and returns a hexbin plot of probabilities that Bryce Harper will swing at the pitch in the situation\n",
    "\n",
    "def pitch_swing(mlbid, pitch_type, strikes, balls, prev_pitch):\n",
    "    \n",
    "    import matplotlib.patches as patches\n",
    "    \n",
    "    data = statcast_pitcher('2019-03-15','2021-10-01',mlbid)\n",
    "    \n",
    "    arm = data['p_throws'][0]\n",
    "    \n",
    "    if arm == 'R':\n",
    "        throws_r = 1\n",
    "        throws_l = 0\n",
    "    elif arm =='L':\n",
    "        throws_r = 0\n",
    "        throws_l = 1\n",
    "    \n",
    "    if prev_pitch == 'fb':\n",
    "        prev_fb = 1\n",
    "        prev_brk = 0\n",
    "        prev_offs = 0\n",
    "        prev_none = 0\n",
    "        msg = ' in ' + str(balls) + '-' + str(strikes) + ' count after a fastball'\n",
    "    elif prev_pitch == 'brk':\n",
    "        prev_fb = 0\n",
    "        prev_brk = 1\n",
    "        prev_offs = 0\n",
    "        prev_none = 0\n",
    "        msg = ' in ' + str(balls) + '-' + str(strikes) + ' count after a breaking ball'\n",
    "    elif prev_pitch == 'offs':\n",
    "        prev_fb = 0\n",
    "        prev_brk = 0\n",
    "        prev_offs = 1\n",
    "        prev_none = 0\n",
    "        msg = ' in ' + str(balls) + '-' + str(strikes) + ' count after an offspeed pitch'\n",
    "    elif prev_pitch == 'none':\n",
    "        prev_fb = 0\n",
    "        prev_brk = 0\n",
    "        prev_offs = 0\n",
    "        prev_none = 1\n",
    "        msg = ' on first pitch'\n",
    "    \n",
    "    pitch = data.loc[data['pitch_type'] == pitch_type]\n",
    "    \n",
    "    pitch = pitch.reset_index(drop = True)\n",
    "    \n",
    "    sz_top = data4['sz_top'].mean()\n",
    "    \n",
    "    sz_bot = data4['sz_bot'].mean()\n",
    "    \n",
    "    # Use the average of the speed/movement metrics to test the model\n",
    "    avg_speed = pitch['release_speed'].mean()\n",
    "    avg_pfx_x = pitch['pfx_x'].mean()\n",
    "    avg_pfx_z = pitch['pfx_z'].mean()\n",
    "    avg_vx0 = pitch['vx0'].mean()\n",
    "    avg_vy0 = pitch['vy0'].mean()\n",
    "    avg_vz0 = pitch['vz0'].mean()\n",
    "    \n",
    "    # These will be used as the x,z coordinates for the strikezone\n",
    "    plate_x = np.linspace(start = -1.5, stop = 1.5, num = 40)\n",
    "    plate_z = np.linspace(start = 0.5, stop = sz_top + 0.75, num = 50)\n",
    "    \n",
    "    # Getting the cartesian product of those two arrays\n",
    "    plate_product = np.transpose([np.tile(plate_x, len(plate_z)), np.repeat(plate_z, len(plate_x))])\n",
    "    \n",
    "    df = pd.DataFrame(data = plate_product, columns = ['plate_x','plate_z'])\n",
    "    \n",
    "    df['release_speed'] = avg_speed\n",
    "    df['pfx_x'] = avg_pfx_x\n",
    "    df['pfx_z'] = avg_pfx_z\n",
    "    df['vx0'] = avg_vx0\n",
    "    df['vy0'] = avg_vy0\n",
    "    df['vz0'] = avg_vz0\n",
    "    df['strikes'] = strikes\n",
    "    df['balls'] = balls\n",
    "    df['throws_L'] = throws_l\n",
    "    df['throws_R'] = throws_r\n",
    "    df['prev_brk'] = prev_brk\n",
    "    df['prev_fb'] = prev_fb\n",
    "    df['prev_none'] = prev_none\n",
    "    df['prev_offs'] = prev_offs\n",
    "    \n",
    "    swing_prob = clf2.predict_proba(df.values)\n",
    "    \n",
    "    sp = pd.DataFrame(data = swing_prob, columns = ['take_prob','swing_prob'])\n",
    "    \n",
    "    df['swing_prob'] = sp['swing_prob']\n",
    "    \n",
    "    strikezone = patches.Rectangle((-0.70833,sz_bot), width = 17/12, height = (sz_top-sz_bot), fill = False)\n",
    "    \n",
    "    fig, ax = plt.subplots()\n",
    "    graph = ax.hexbin(df['plate_x'],df['plate_z'], C = df['swing_prob'], \n",
    "              gridsize = (12), vmax = 1,vmin =0, cmap = 'Blues')    \n",
    "    \n",
    "    name = data['player_name'][0]\n",
    "    title = 'Joey Votto swing probability against ' + name + \"'s \" + pitch['pitch_name'][0] + msg\n",
    "    ax.add_patch(strikezone)\n",
    "    \n",
    "    ax.axis('equal')\n",
    "    \n",
    "    ax.set_title(title)\n",
    "    \n",
    "    cbar = fig.colorbar(graph)\n",
    "    \n",
    "    cbar.set_label('Swing probability')\n",
    "    \n",
    "    return graph"
   ]
  },
  {
   "cell_type": "code",
   "execution_count": null,
   "metadata": {},
   "outputs": [],
   "source": [
    "playerid_lookup('kershaw','clayton')"
   ]
  },
  {
   "cell_type": "code",
   "execution_count": null,
   "metadata": {},
   "outputs": [],
   "source": [
    "pitch_swing(477132, 'CU',2,0,'fb')"
   ]
  }
 ],
 "metadata": {
  "kernelspec": {
   "display_name": "Python 3",
   "language": "python",
   "name": "python3"
  },
  "language_info": {
   "codemirror_mode": {
    "name": "ipython",
    "version": 3
   },
   "file_extension": ".py",
   "mimetype": "text/x-python",
   "name": "python",
   "nbconvert_exporter": "python",
   "pygments_lexer": "ipython3",
   "version": "3.8.8"
  }
 },
 "nbformat": 4,
 "nbformat_minor": 2
}
